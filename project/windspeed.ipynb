{
 "cells": [
  {
   "cell_type": "markdown",
   "metadata": {},
   "source": [
    "# Windspeed Analysis for Windfarm\n",
    "***\n"
   ]
  },
  {
   "cell_type": "markdown",
   "metadata": {},
   "source": [
    "Ireland’s abundant wind resources make it an ideal candidate for harnessing wind energy, a key component in the country’s transition to renewable energy. This project focuses on analyzing wind speed data from a specific location in Ireland,  utilizing historical weather data from Met Éireann and other credible sources. By examining trends and patterns in hourly collected wind speed data over different timeframes daily, monthly, and yearly—this analysis aims to assess the potential for wind energy generation near Mace Head in Galway. Additionally, it considers operational factors, such as the minimum and maximum wind speeds at which wind turbines operate, to evaluate the feasibility and efficiency of wind farm operations.\n",
    "\n",
    "The analysis also delves into long-term trends in wind speeds to assess whether they are consistent or show significant changes over the decades, providing insights into future wind energy potential. Beyond wind speed, other weather metric such as temperature will be explored to understand its impact on wind farm efficiency. This project will also explore the challenges of forecasting wind power output by leveraging available weather predictions and wind turbine power curves. Ultimately, the findings will provide actionable insights for optimizing wind farm development and contribute to Ireland’s renewable energy goals."
   ]
  },
  {
   "cell_type": "markdown",
   "metadata": {},
   "source": [
    "## Met Eireann Station\n",
    "\n",
    "The west coast of Ireland, encompassing counties such as Donegal, Mayo, Galway, and Clare, is the ideal region for wind speed analysis due to its exposure to strong and consistent Atlantic winds, making it one of the most productive areas for wind energy generation. With high average wind speeds year-round and significant potential for both onshore and offshore wind farms, this region offers unparalleled opportunities for efficient and sustainable wind power development. Its proven track record, exemplified by successful projects like the Galway Wind Park, further underscores its suitability as a focal point for wind speed analysis and wind farm optimization [[57]](57).\n",
    "For this project the county of Galway and more specific the Met Eireann station in Mace Head was chosen to have the wind speed analysed for windfarm as it is one of the few stations in Galway that presents hourly data of some parameters such as the Mean Wind Speed (kt) and Air Temperature (C) since 2003, which will be beneficial for the analysis to be carried out as part of this project."
   ]
  },
  {
   "cell_type": "markdown",
   "metadata": {},
   "source": [
    "## Read in data\n",
    "\n",
    "In this section, the appropriate modules are imported, the data is read in and an analysis is completed to have an overview of the data."
   ]
  },
  {
   "cell_type": "code",
   "execution_count": 26,
   "metadata": {},
   "outputs": [],
   "source": [
    "# Import pandas\n",
    "\n",
    "import pandas as pd\n",
    "\n",
    "import numpy as np\n",
    "\n",
    "import matplotlib.pyplot as plt\n",
    "\n",
    "from matplotlib.ticker import MultipleLocator, FormatStrFormatter\n",
    "\n",
    "import seaborn as sns\n",
    "\n",
    "import calendar"
   ]
  },
  {
   "cell_type": "code",
   "execution_count": 27,
   "metadata": {},
   "outputs": [
    {
     "name": "stdout",
     "output_type": "stream",
     "text": [
      "Optimum Cut-in Wind Speed: 3.66 m/s\n",
      "Optimum Rated Wind Speed: 13.92 m/s\n",
      "Optimum Cut-out Wind Speed: 24.55 m/s\n",
      "Optimum Rated Power: 2.19 MW\n"
     ]
    }
   ],
   "source": [
    "# Wind turbine models and specifications\n",
    "turbine_data = {\n",
    "    'Vestas V52': {'cut_in': 4.0, 'rated': 14.0, 'cut_out': 25.0, 'count': 70, 'rated_power': 0.85},\n",
    "    'Siemens SWT-3.0-101': {'cut_in': 3.5, 'rated': 14.5, 'cut_out': 25.0, 'count': 58, 'rated_power': 3.0},\n",
    "    'Nordex N149 4.0-4.5': {'cut_in': 3.0, 'rated': 12.0, 'cut_out': 20.0, 'count': 15, 'rated_power': 4.0},\n",
    "    'Nordex N149 5.0': {'cut_in': 3.0, 'rated': 12.5, 'cut_out': 26.0, 'count': 7, 'rated_power': 5.0}\n",
    "}\n",
    "\n",
    "# Calculate the weighted average for a given parameter\n",
    "def weighted_average(data, param):\n",
    "    total_weight = sum(turbine['count'] for turbine in data.values())\n",
    "    return sum(turbine[param] * turbine['count'] for turbine in data.values()) / total_weight\n",
    "\n",
    "# Calculate optimum values\n",
    "opt_cut_in = weighted_average(turbine_data, 'cut_in')\n",
    "opt_rated = weighted_average(turbine_data, 'rated')\n",
    "opt_cut_out = weighted_average(turbine_data, 'cut_out')\n",
    "opt_rated_power = weighted_average(turbine_data, 'rated_power')\n",
    "\n",
    "# Print results\n",
    "print(f\"Optimum Cut-in Wind Speed: {opt_cut_in:.2f} m/s\")\n",
    "print(f\"Optimum Rated Wind Speed: {opt_rated:.2f} m/s\")\n",
    "print(f\"Optimum Cut-out Wind Speed: {opt_cut_out:.2f} m/s\")\n",
    "print(f\"Optimum Rated Power: {opt_rated_power:.2f} MW\")\n"
   ]
  },
  {
   "cell_type": "markdown",
   "metadata": {},
   "source": [
    "Looking at the file hly275.csv downloaded from [Met Eireann website](https://www.met.ie/climate/available-data/historical-data) and saved into the project folder is noticeable that there are 17 rows that needs to be removed to allow proper analysis of the data [[58]](58)."
   ]
  },
  {
   "cell_type": "code",
   "execution_count": 28,
   "metadata": {},
   "outputs": [
    {
     "name": "stderr",
     "output_type": "stream",
     "text": [
      "/var/folders/rk/fh00kl713wq4442gfb60yzk40000gn/T/ipykernel_11981/1798932155.py:5: DtypeWarning: Columns (2,4,6,7,8,9,10,12,14) have mixed types. Specify dtype option on import or set low_memory=False.\n",
      "  df = pd.read_csv(file,skiprows=17)\n"
     ]
    }
   ],
   "source": [
    "# Read in Data and skip rows 17\n",
    "\n",
    "file = 'hly275.csv'\n",
    "\n",
    "df = pd.read_csv(file,skiprows=17)"
   ]
  },
  {
   "cell_type": "code",
   "execution_count": 29,
   "metadata": {},
   "outputs": [
    {
     "data": {
      "text/html": [
       "<div>\n",
       "<style scoped>\n",
       "    .dataframe tbody tr th:only-of-type {\n",
       "        vertical-align: middle;\n",
       "    }\n",
       "\n",
       "    .dataframe tbody tr th {\n",
       "        vertical-align: top;\n",
       "    }\n",
       "\n",
       "    .dataframe thead th {\n",
       "        text-align: right;\n",
       "    }\n",
       "</style>\n",
       "<table border=\"1\" class=\"dataframe\">\n",
       "  <thead>\n",
       "    <tr style=\"text-align: right;\">\n",
       "      <th></th>\n",
       "      <th>date</th>\n",
       "      <th>ind</th>\n",
       "      <th>rain</th>\n",
       "      <th>ind.1</th>\n",
       "      <th>temp</th>\n",
       "      <th>ind.2</th>\n",
       "      <th>wetb</th>\n",
       "      <th>dewpt</th>\n",
       "      <th>vappr</th>\n",
       "      <th>rhum</th>\n",
       "      <th>msl</th>\n",
       "      <th>ind.3</th>\n",
       "      <th>wdsp</th>\n",
       "      <th>ind.4</th>\n",
       "      <th>wddir</th>\n",
       "    </tr>\n",
       "  </thead>\n",
       "  <tbody>\n",
       "    <tr>\n",
       "      <th>0</th>\n",
       "      <td>13-aug-2003 01:00</td>\n",
       "      <td>-1</td>\n",
       "      <td></td>\n",
       "      <td>4</td>\n",
       "      <td></td>\n",
       "      <td>4</td>\n",
       "      <td></td>\n",
       "      <td></td>\n",
       "      <td></td>\n",
       "      <td></td>\n",
       "      <td></td>\n",
       "      <td>7</td>\n",
       "      <td></td>\n",
       "      <td>7</td>\n",
       "      <td></td>\n",
       "    </tr>\n",
       "    <tr>\n",
       "      <th>1</th>\n",
       "      <td>13-aug-2003 02:00</td>\n",
       "      <td>-1</td>\n",
       "      <td></td>\n",
       "      <td>4</td>\n",
       "      <td></td>\n",
       "      <td>4</td>\n",
       "      <td></td>\n",
       "      <td></td>\n",
       "      <td></td>\n",
       "      <td></td>\n",
       "      <td></td>\n",
       "      <td>7</td>\n",
       "      <td></td>\n",
       "      <td>7</td>\n",
       "      <td></td>\n",
       "    </tr>\n",
       "    <tr>\n",
       "      <th>2</th>\n",
       "      <td>13-aug-2003 03:00</td>\n",
       "      <td>-1</td>\n",
       "      <td></td>\n",
       "      <td>4</td>\n",
       "      <td></td>\n",
       "      <td>4</td>\n",
       "      <td></td>\n",
       "      <td></td>\n",
       "      <td></td>\n",
       "      <td></td>\n",
       "      <td></td>\n",
       "      <td>7</td>\n",
       "      <td></td>\n",
       "      <td>7</td>\n",
       "      <td></td>\n",
       "    </tr>\n",
       "    <tr>\n",
       "      <th>3</th>\n",
       "      <td>13-aug-2003 04:00</td>\n",
       "      <td>-1</td>\n",
       "      <td></td>\n",
       "      <td>4</td>\n",
       "      <td></td>\n",
       "      <td>4</td>\n",
       "      <td></td>\n",
       "      <td></td>\n",
       "      <td></td>\n",
       "      <td></td>\n",
       "      <td></td>\n",
       "      <td>7</td>\n",
       "      <td></td>\n",
       "      <td>7</td>\n",
       "      <td></td>\n",
       "    </tr>\n",
       "    <tr>\n",
       "      <th>4</th>\n",
       "      <td>13-aug-2003 05:00</td>\n",
       "      <td>-1</td>\n",
       "      <td></td>\n",
       "      <td>4</td>\n",
       "      <td></td>\n",
       "      <td>4</td>\n",
       "      <td></td>\n",
       "      <td></td>\n",
       "      <td></td>\n",
       "      <td></td>\n",
       "      <td></td>\n",
       "      <td>7</td>\n",
       "      <td></td>\n",
       "      <td>7</td>\n",
       "      <td></td>\n",
       "    </tr>\n",
       "  </tbody>\n",
       "</table>\n",
       "</div>"
      ],
      "text/plain": [
       "                date  ind rain  ind.1 temp  ind.2 wetb dewpt vappr rhum msl  \\\n",
       "0  13-aug-2003 01:00   -1           4           4                             \n",
       "1  13-aug-2003 02:00   -1           4           4                             \n",
       "2  13-aug-2003 03:00   -1           4           4                             \n",
       "3  13-aug-2003 04:00   -1           4           4                             \n",
       "4  13-aug-2003 05:00   -1           4           4                             \n",
       "\n",
       "   ind.3 wdsp  ind.4 wddir  \n",
       "0      7           7        \n",
       "1      7           7        \n",
       "2      7           7        \n",
       "3      7           7        \n",
       "4      7           7        "
      ]
     },
     "execution_count": 29,
     "metadata": {},
     "output_type": "execute_result"
    }
   ],
   "source": [
    "# Quick look into the first 5 rows\n",
    "\n",
    "df.head()"
   ]
  },
  {
   "cell_type": "markdown",
   "metadata": {},
   "source": [
    "The first 5 rows show a lot of null data including wdsp (mean windspeed). Therefore let's have a look at the number of 'NaN' values in this dataset."
   ]
  },
  {
   "cell_type": "code",
   "execution_count": 30,
   "metadata": {},
   "outputs": [
    {
     "name": "stdout",
     "output_type": "stream",
     "text": [
      "<class 'pandas.core.frame.DataFrame'>\n",
      "RangeIndex: 186744 entries, 0 to 186743\n",
      "Data columns (total 15 columns):\n",
      " #   Column  Non-Null Count   Dtype \n",
      "---  ------  --------------   ----- \n",
      " 0   date    186744 non-null  object\n",
      " 1   ind     186744 non-null  int64 \n",
      " 2   rain    186744 non-null  object\n",
      " 3   ind.1   186744 non-null  int64 \n",
      " 4   temp    186744 non-null  object\n",
      " 5   ind.2   186744 non-null  int64 \n",
      " 6   wetb    186744 non-null  object\n",
      " 7   dewpt   186744 non-null  object\n",
      " 8   vappr   186744 non-null  object\n",
      " 9   rhum    186744 non-null  object\n",
      " 10  msl     186744 non-null  object\n",
      " 11  ind.3   186744 non-null  int64 \n",
      " 12  wdsp    186744 non-null  object\n",
      " 13  ind.4   186744 non-null  int64 \n",
      " 14  wddir   186744 non-null  object\n",
      "dtypes: int64(5), object(10)\n",
      "memory usage: 21.4+ MB\n"
     ]
    }
   ],
   "source": [
    "# Confirming the count of Non-null data and data type\n",
    "\n",
    "df.info()"
   ]
  },
  {
   "cell_type": "markdown",
   "metadata": {},
   "source": [
    "From df.info() it does not seem to have null data which goes against what we have just seend in the first 5 rows and that might be due to the data type. Therefore let's check the number of unique values in 'wdsp' column."
   ]
  },
  {
   "cell_type": "code",
   "execution_count": 31,
   "metadata": {},
   "outputs": [
    {
     "name": "stdout",
     "output_type": "stream",
     "text": [
      "[' ' '6' '4' '3' '5' '7' '9' '12' '10' '8' '2' '1' '11' '13' '16' '17'\n",
      " '19' '22' '25' '23' '14' '18' '20' '21' '15' '24' '26' '30' '28' '29'\n",
      " '27' '33' '36' '31' '32' '34' '37' '42' '44' '40' '35' '38' '39' '41'\n",
      " '43' '53' '50' '48' '47' '46' '0' '45' '51' '52' '49' '56' '55' 17 18 15\n",
      " 14 11 6 5 3 4 8 9 12 13 16 7 2 10 20 23 21 22 19 25 26 28 29 27 24 30 1\n",
      " 31 35 37 34 41 51 55 56 45 40 36 33 32 39 42 38 46 43 47 49 44 50 0 54 48\n",
      " 52]\n"
     ]
    }
   ],
   "source": [
    "# See all unique values in the column 'wdsp'\n",
    "\n",
    "print(df['wdsp'].unique())  "
   ]
  },
  {
   "cell_type": "markdown",
   "metadata": {},
   "source": [
    "From the output of unique values function above is possible to see that the data type in this column is mixed, showing string and numeric data types. Also, there is null data, so let's clean the data."
   ]
  },
  {
   "cell_type": "markdown",
   "metadata": {},
   "source": [
    "## Clean the dataset\n",
    "\n",
    "In this section, we replace and clean null data, then convert all the string data in column 'wdsp' to integer. We also normalise the datetime data to 'YYYY-MM-DD hh:mm:ss'."
   ]
  },
  {
   "cell_type": "markdown",
   "metadata": {},
   "source": [
    "### Replace null values"
   ]
  },
  {
   "cell_type": "code",
   "execution_count": 32,
   "metadata": {},
   "outputs": [],
   "source": [
    "# Replace non-numeric or invalid values with NaN\n",
    "\n",
    "df['wdsp'] = df['wdsp'].replace([' ', '', 'NA', 'null'], np.nan)"
   ]
  },
  {
   "cell_type": "code",
   "execution_count": 33,
   "metadata": {},
   "outputs": [
    {
     "name": "stdout",
     "output_type": "stream",
     "text": [
      "Number of NaN values in 'wdsp': 1296\n"
     ]
    }
   ],
   "source": [
    "# Count NaN values in 'wdsp'\n",
    "nan_wdsp_count = df['wdsp'].isnull().sum()\n",
    "\n",
    "print(f\"Number of NaN values in 'wdsp': {nan_wdsp_count}\")"
   ]
  },
  {
   "cell_type": "markdown",
   "metadata": {},
   "source": [
    "### Change data type"
   ]
  },
  {
   "cell_type": "code",
   "execution_count": 34,
   "metadata": {},
   "outputs": [
    {
     "name": "stdout",
     "output_type": "stream",
     "text": [
      "Int64\n"
     ]
    }
   ],
   "source": [
    "# Convert 'wdsp' to integer, coercing non-convertible values to NaN\n",
    "\n",
    "df['wdsp'] = pd.to_numeric(df['wdsp'], errors='coerce').astype('Int64') \n",
    "\n",
    "# Verify the data types\n",
    "\n",
    "print(df['wdsp'].dtypes)"
   ]
  },
  {
   "cell_type": "code",
   "execution_count": 35,
   "metadata": {},
   "outputs": [
    {
     "name": "stdout",
     "output_type": "stream",
     "text": [
      "                date  wdsp\n",
      "0  13-aug-2003 01:00  <NA>\n",
      "1  13-aug-2003 02:00  <NA>\n",
      "2  13-aug-2003 03:00  <NA>\n",
      "3  13-aug-2003 04:00  <NA>\n",
      "4  13-aug-2003 05:00  <NA>\n"
     ]
    }
   ],
   "source": [
    "# Check the first few rows for 'date' and 'wdsp' columns\n",
    "\n",
    "print(df[['date', 'wdsp']].head())"
   ]
  },
  {
   "cell_type": "markdown",
   "metadata": {},
   "source": [
    "### Drop NaN"
   ]
  },
  {
   "cell_type": "code",
   "execution_count": 36,
   "metadata": {},
   "outputs": [
    {
     "name": "stdout",
     "output_type": "stream",
     "text": [
      "Number of NaN values in 'wdsp' after dropping: 0\n"
     ]
    }
   ],
   "source": [
    "# Drop rows where 'wdsp' is NaN\n",
    "df = df.dropna(subset=['wdsp'])\n",
    "\n",
    "# Verify if NaN values are removed\n",
    "null_wdsp_count = df['wdsp'].isna().sum()\n",
    "print(f\"Number of NaN values in 'wdsp' after dropping: {null_wdsp_count}\")"
   ]
  },
  {
   "cell_type": "markdown",
   "metadata": {},
   "source": [
    "### Normalise datetime"
   ]
  },
  {
   "cell_type": "code",
   "execution_count": 37,
   "metadata": {},
   "outputs": [
    {
     "data": {
      "text/plain": [
       "24       2003-08-14 01:00:00\n",
       "25       2003-08-14 02:00:00\n",
       "26       2003-08-14 03:00:00\n",
       "27       2003-08-14 04:00:00\n",
       "28       2003-08-14 05:00:00\n",
       "                 ...        \n",
       "186739   2024-11-30 20:00:00\n",
       "186740   2024-11-30 21:00:00\n",
       "186741   2024-11-30 22:00:00\n",
       "186742   2024-11-30 23:00:00\n",
       "186743   2024-12-01 00:00:00\n",
       "Name: date, Length: 185448, dtype: datetime64[ns]"
      ]
     },
     "execution_count": 37,
     "metadata": {},
     "output_type": "execute_result"
    }
   ],
   "source": [
    "# Change date time format\n",
    "\n",
    "df['date'] = pd.to_datetime(df['date'], format='%d-%b-%Y %H:%M')\n",
    "\n",
    "df['date']"
   ]
  },
  {
   "cell_type": "markdown",
   "metadata": {},
   "source": [
    "Note: the column 'date' contains Date and Time in UTC time zone, so no further action required here."
   ]
  },
  {
   "cell_type": "markdown",
   "metadata": {},
   "source": [
    "## Wind power in Mace Head - Galway"
   ]
  },
  {
   "cell_type": "markdown",
   "metadata": {},
   "source": [
    "To determine the wind power available in Mace Head the variability of wind speeds and the operational characteristics of wind turbines are taken into consideration.\n",
    "\n",
    "For this project hourly mean wind speeds will be used instead of aggregating into daily, monthly and yearly as they preserve much of the variability.\n",
    "\n",
    "The wind power is calculated as per formula below [[59]](59):\n",
    "\n",
    "$P = 0.5 C_p \\rho \\pi R^2 V^3$\n",
    "\n",
    "where:\n",
    "- $Cp$ is the coefficient of performance (efficiency factor, $\\%$)\n",
    "- $ρ$ is air density ($kg/m3$)\n",
    "- $R$ is the radius of the wind turbine ($m$)\n",
    "- $V$ is the wind speed ($m/s$).\n"
   ]
  },
  {
   "cell_type": "markdown",
   "metadata": {},
   "source": [
    "### Turbine Operational Ranges\n",
    "\n",
    "In County Galway, Vestas V52 is the most commonly used turbine in wind farms, accounting for 70 out of 192 turbines currently confirmed as operational [[60]](60). In the table below is possible to see the specification for this turbine model [[61]](61)."
   ]
  },
  {
   "cell_type": "markdown",
   "metadata": {},
   "source": [
    "| **Wind Turbine Model**     | **Cut-in Wind Speed** | **Rated Wind Speed** | **Cut-out Wind Speed** | **Rated Power** | **Efficiency** | **Rotor Diameter** |\n",
    "|----------------------------|-----------------------|----------------------|------------------------|----------------|----------------|--------------------|\n",
    "| **Vestas V52**              | 4.0 m/s               | 14 m/s               | 25.0 m/s               | 0.85 MW        | 45%            | 52.0 m            |"
   ]
  },
  {
   "cell_type": "markdown",
   "metadata": {},
   "source": [
    "### Wind Power Calculation for Vestas V52\n",
    "\n",
    "To calculate the power output of a wind turbine like the Vestas V52 considering its operational wind speed range (cut-in, rated, and cut-out wind speeds), the formula can be divided into four distinct regions [[62]](62):\n",
    "\n",
    "1. Below Cut-in Wind Speed:    \n",
    "$V < V_{cut-in}$.   \n",
    "The turbine produces no power:    \n",
    "$P = 0$\n",
    "\n",
    "2. Between Cut-in and Rated Wind Speed:   \n",
    "$V_{\\text{cut-in}} \\leq V < V_{\\text{rated}}$    \n",
    "The power output increases with the cube of the wind speed:   \n",
    "$P = 0.5 C_p \\rho \\pi R^2 V^3$.     \n",
    "\n",
    "3. Between Rated and Cut-out Wind Speed:   \n",
    "$V_{\\text{rated}} \\leq V < V_{\\text{cut-out}}$  \n",
    "The turbine operates at constant rated power:    \n",
    "$P = P_{\\text{rated}}$  \n",
    "\n",
    "4. Above Cut-out Wind Speed:   \n",
    "$V \\geq V_{\\text{cut-out}}$  \n",
    "The turbine is shut down for safety, and the power is:  \n",
    "$P = 0$\n",
    "\n",
    "Using these regions, we can calculate the turbine's output for a specific wind speed V.\n",
    "From Vestas V52 turbine specification we have:"
   ]
  },
  {
   "cell_type": "code",
   "execution_count": 38,
   "metadata": {},
   "outputs": [],
   "source": [
    "# Vestas V52 Specification\n",
    "speed_cut_in = 4.0  # m/s\n",
    "speed_rated = 14.0  # m/s\n",
    "speed_cut_out = 25.0  # m/s\n",
    "power_rated = 0.85 * 10**6  # Watts (MW converted to Watts)\n",
    "efficiency = 0.45 # coefficient of performance\n",
    "rotor_diameter = 52.0 # m"
   ]
  },
  {
   "cell_type": "markdown",
   "metadata": {},
   "source": [
    "Air density is also required for the wind power calculation. The air density is a standard value [[63]](63):\n",
    "\n",
    "$ρ = 1.225 kg/m^3$  \n",
    "\n",
    "Therefore, this is also added to the script:"
   ]
  },
  {
   "cell_type": "code",
   "execution_count": 39,
   "metadata": {},
   "outputs": [],
   "source": [
    "# Air Density\n",
    "air_density = 1.225  # kg/m³ (standard)"
   ]
  },
  {
   "cell_type": "markdown",
   "metadata": {},
   "source": [
    "The wind speed in column 'wdsp' of the dataset is given in $knot$ and needs to be converted to $m/s$ [[64]](64):\n",
    "\n",
    "$1 knot = 0.514 m/s$\n",
    "\n",
    "Let's create a column in the data frame with the converted value."
   ]
  },
  {
   "cell_type": "code",
   "execution_count": 40,
   "metadata": {},
   "outputs": [
    {
     "data": {
      "text/plain": [
       "24    3.08664\n",
       "25    2.05776\n",
       "26    1.54332\n",
       "27     2.5722\n",
       "28    3.08664\n",
       "Name: wdsp_ms, dtype: Float64"
      ]
     },
     "execution_count": 40,
     "metadata": {},
     "output_type": "execute_result"
    }
   ],
   "source": [
    "# Convert knots to m/s\n",
    "knot_to_ms = 0.51444  # m/s\n",
    "\n",
    "# Create column in df with unit in m/s\n",
    "df['wdsp_ms'] = df['wdsp'] * knot_to_ms\n",
    "\n",
    "# Confirming the first 5 rows of this new column\n",
    "df['wdsp_ms'].head()"
   ]
  },
  {
   "cell_type": "markdown",
   "metadata": {},
   "source": [
    "The rotor is giving in diameter and this needs to be changed to radius [[65]](65). To do that we use the formula:\n",
    "\n",
    "$r = \\frac{d}{2}$\n",
    "\n",
    "And then we also calculate the rotor area which is this part $\\rho \\pi R^2$ of the formula $P = 0.5 C_p \\rho \\pi R^2 V^3$."
   ]
  },
  {
   "cell_type": "code",
   "execution_count": 41,
   "metadata": {},
   "outputs": [
    {
     "name": "stdout",
     "output_type": "stream",
     "text": [
      "The rotor radius is 26.0 m\n",
      "The rotor area is 2123.72 m²\n"
     ]
    }
   ],
   "source": [
    "# Convert diameter to radius\n",
    "rotor_radius = rotor_diameter / 2\n",
    "\n",
    "print (f'The rotor radius is {rotor_radius} m')\n",
    "\n",
    "# Calculate the rotor area\n",
    "rotor_area = np.pi * (rotor_radius ** 2)\n",
    "\n",
    "print(f'The rotor area is {rotor_area:.2f} m²')"
   ]
  },
  {
   "cell_type": "markdown",
   "metadata": {},
   "source": [
    "With all the constants values determined we can now define the function to calculate wind power based on wind speed:"
   ]
  },
  {
   "cell_type": "code",
   "execution_count": 42,
   "metadata": {},
   "outputs": [],
   "source": [
    "# Function to calculate power\n",
    "def calculate_wind_power(wind_speed):\n",
    "    if wind_speed < speed_cut_in or wind_speed > speed_cut_out:\n",
    "        return 0\n",
    "    elif wind_speed < speed_rated:\n",
    "        rotor_area = np.pi * (40 ** 2)\n",
    "        return 0.5 * air_density * rotor_area * (wind_speed ** 3) * efficiency\n",
    "    else:\n",
    "        return power_rated"
   ]
  },
  {
   "cell_type": "markdown",
   "metadata": {},
   "source": [
    "Next, we use the function to create a column in the data frame called 'wdpr' (Wind Power in Watts):"
   ]
  },
  {
   "cell_type": "code",
   "execution_count": 43,
   "metadata": {},
   "outputs": [],
   "source": [
    "# Create column wdpr\n",
    "df['wdpr'] = df['wdsp_ms'].apply(calculate_wind_power)"
   ]
  },
  {
   "cell_type": "markdown",
   "metadata": {},
   "source": [
    "With the Wind Power column added to the dataset now we can calculate the following:\n",
    "\n",
    "- Total Power. \n",
    "- The mean wind power per hour.\n",
    "\n",
    "Note: This is the total power and average power per hour that could have been generated since the station started collecting the wind speed data (13-aug-2003). This is hypotethical scenario considering that the mean wind speed is constant during the whole hour. This scenario does not reflect the reality. "
   ]
  },
  {
   "cell_type": "code",
   "execution_count": 44,
   "metadata": {},
   "outputs": [
    {
     "name": "stdout",
     "output_type": "stream",
     "text": [
      "Total wind power over the period: 140.45 GW\n"
     ]
    }
   ],
   "source": [
    "# Total power in Watts\n",
    "total_power = df['wdpr'].sum()  \n",
    "\n",
    "# Convert Watts to GW for reporting\n",
    "total_power_gw = total_power / 10**9\n",
    "\n",
    "# Print results\n",
    "print(f\"Total wind power over the period: {total_power_gw:.2f} GW\")"
   ]
  },
  {
   "cell_type": "code",
   "execution_count": 45,
   "metadata": {},
   "outputs": [
    {
     "name": "stdout",
     "output_type": "stream",
     "text": [
      "Mean wind power per hour: 0.76 MW\n"
     ]
    }
   ],
   "source": [
    "# Mean power in Watts\n",
    "mean_power = df['wdpr'].mean()  \n",
    "\n",
    "# Convert Watts to MW for reporting\n",
    "mean_power_mw = mean_power / 10**6\n",
    "\n",
    "# Print results\n",
    "print(f\"Mean wind power per hour: {mean_power_mw:.2f} MW\")"
   ]
  },
  {
   "cell_type": "markdown",
   "metadata": {},
   "source": [
    "Further, we analyze wind power availability across different times of the day and year, we can break down the data into categories such as hourly, daily, monthly, and seasonal trends."
   ]
  },
  {
   "cell_type": "markdown",
   "metadata": {},
   "source": [
    "1. Add Time of Day and Year Columns\n",
    "Extract the time and month information from the date column to facilitate grouping by time of day or time of year."
   ]
  },
  {
   "cell_type": "code",
   "execution_count": 46,
   "metadata": {},
   "outputs": [],
   "source": [
    "# Extract hour, month, and season from the 'date' column\n",
    "df['hour'] = df['date'].dt.hour\n",
    "df['month'] = df['date'].dt.month\n",
    "\n",
    "# Define Irish calendar seasons\n",
    "irish_seasons = {\n",
    "    2: 'Spring', 3: 'Spring', 4: 'Spring',\n",
    "    5: 'Summer', 6: 'Summer', 7: 'Summer',\n",
    "    8: 'Autumn', 9: 'Autumn', 10: 'Autumn',\n",
    "    11: 'Winter', 12: 'Winter', 1: 'Winter'\n",
    "}\n",
    "\n",
    "# Map months to Irish seasons\n",
    "df['season'] = df['month'].map(irish_seasons)"
   ]
  },
  {
   "cell_type": "markdown",
   "metadata": {},
   "source": [
    "Group Data for Analysis\n",
    "\n",
    "Group the data by hour, month, or season to analyze wind power generation trends at different times of day or year."
   ]
  },
  {
   "cell_type": "markdown",
   "metadata": {},
   "source": [
    "Hourly Analysis"
   ]
  },
  {
   "cell_type": "code",
   "execution_count": 47,
   "metadata": {},
   "outputs": [],
   "source": [
    "# Calculate average wind power for each hour of the day\n",
    "hourly_power = df.groupby('hour')['wdpr'].mean()\n",
    "\n",
    "# Convert to MW for better readability\n",
    "hourly_power_mw = hourly_power / 10**6"
   ]
  },
  {
   "cell_type": "markdown",
   "metadata": {},
   "source": [
    "Result:"
   ]
  },
  {
   "cell_type": "code",
   "execution_count": 56,
   "metadata": {},
   "outputs": [
    {
     "data": {
      "image/png": "[encoded data removed]",
      "text/plain": [
       "<Figure size 1000x600 with 1 Axes>"
      ]
     },
     "metadata": {},
     "output_type": "display_data"
    }
   ],
   "source": [
    "# Assuming hourly_power_mw is already defined\n",
    "plt.figure(figsize=(10, 6))\n",
    "\n",
    "# Scatter plot\n",
    "plt.scatter(hourly_power_mw.index, hourly_power_mw.values, color='skyblue', edgecolor='black', s=100)\n",
    "\n",
    "# Line plot connecting the points\n",
    "plt.plot(hourly_power_mw.index, hourly_power_mw.values, color='blue', linewidth=2)\n",
    "\n",
    "# Titles and labels\n",
    "plt.title('Average Wind Power by Hour of the Day')\n",
    "plt.xlabel('Hour of the Day')\n",
    "plt.ylabel('Average Wind Power (MW)')\n",
    "\n",
    "# Set x-axis labels to be integers (hour)\n",
    "plt.xticks(ticks=range(24), labels=[str(i) for i in range(24)], rotation=0)\n",
    "\n",
    "# Add gridlines for y-axis\n",
    "plt.grid(axis='y', linestyle='--', alpha=0.7)\n",
    "\n",
    "# Show the plot\n",
    "plt.show()"
   ]
  },
  {
   "cell_type": "markdown",
   "metadata": {},
   "source": [
    "Monthly Analysis"
   ]
  },
  {
   "cell_type": "code",
   "execution_count": 51,
   "metadata": {},
   "outputs": [],
   "source": [
    "# Calculate average wind power for each month\n",
    "monthly_power = df.groupby('month')['wdpr'].mean()\n",
    "\n",
    "# Convert to MW\n",
    "monthly_power_mw = monthly_power / 10**6"
   ]
  },
  {
   "cell_type": "markdown",
   "metadata": {},
   "source": [
    "Result:"
   ]
  },
  {
   "cell_type": "code",
   "execution_count": 52,
   "metadata": {},
   "outputs": [
    {
     "data": {
      "image/png": "[encoded data removed]",
      "text/plain": [
       "<Figure size 1000x600 with 1 Axes>"
      ]
     },
     "metadata": {},
     "output_type": "display_data"
    }
   ],
   "source": [
    "plt.figure(figsize=(10, 6))\n",
    "monthly_power_mw.plot(kind='bar', color='orange')\n",
    "plt.title('Average Wind Power by Month')\n",
    "plt.xlabel('Month')\n",
    "plt.ylabel('Average Wind Power (MW)')\n",
    "plt.xticks(range(12), calendar.month_name[1:13], rotation=45)\n",
    "plt.grid(axis='y', linestyle='--', alpha=0.7)\n",
    "plt.show()"
   ]
  },
  {
   "cell_type": "markdown",
   "metadata": {},
   "source": [
    "Seasonal Analysis"
   ]
  },
  {
   "cell_type": "code",
   "execution_count": 53,
   "metadata": {},
   "outputs": [
    {
     "name": "stdout",
     "output_type": "stream",
     "text": [
      "season\n",
      "Autumn    0.761967\n",
      "Spring    0.747169\n",
      "Summer    0.570209\n",
      "Winter    0.946856\n",
      "Name: wdpr, dtype: float64\n"
     ]
    }
   ],
   "source": [
    "# Calculate average wind power for each season\n",
    "seasonal_power = df.groupby('season')['wdpr'].mean()\n",
    "\n",
    "# Convert to MW\n",
    "seasonal_power_mw = seasonal_power / 10**6\n",
    "print(seasonal_power_mw)\n"
   ]
  },
  {
   "cell_type": "markdown",
   "metadata": {},
   "source": [
    "Result:"
   ]
  },
  {
   "cell_type": "code",
   "execution_count": 58,
   "metadata": {},
   "outputs": [
    {
     "data": {
      "image/png": "[encoded data removed]",
      "text/plain": [
       "<Figure size 1000x600 with 1 Axes>"
      ]
     },
     "metadata": {},
     "output_type": "display_data"
    }
   ],
   "source": [
    "# Ensure that the seasonal_power_mw has the correct order (Winter, Spring, Summer, Autumn)\n",
    "season_order = ['Winter', 'Spring', 'Summer', 'Autumn']\n",
    "seasonal_power_mw = seasonal_power_mw[season_order]\n",
    "\n",
    "# Plotting\n",
    "plt.figure(figsize=(10, 6))\n",
    "\n",
    "# Bar plot with the defined order of seasons\n",
    "ax = seasonal_power_mw.plot(kind='bar', color='green')\n",
    "\n",
    "# Title and labels\n",
    "plt.title('Average Wind Power by Season')\n",
    "plt.xlabel('Season')\n",
    "plt.ylabel('Average Wind Power (MW)')\n",
    "\n",
    "# Set x-ticks to the season order\n",
    "plt.xticks(ticks=range(4), labels=season_order, rotation=0)\n",
    "\n",
    "# Add gridlines for y-axis\n",
    "plt.grid(axis='y', linestyle='--', alpha=0.7)\n",
    "\n",
    "# Add bar labels (values) on top of each bar\n",
    "for i, v in enumerate(seasonal_power_mw):\n",
    "    ax.text(i, v + 0.01, f'{v:.2f}', ha='center', va='bottom', fontsize=10, color='black')\n",
    "\n",
    "# Show the plot\n",
    "plt.show()\n"
   ]
  },
  {
   "cell_type": "markdown",
   "metadata": {},
   "source": [
    "***\n",
    "# End"
   ]
  }
 ],
 "metadata": {
  "kernelspec": {
   "display_name": "base",
   "language": "python",
   "name": "python3"
  },
  "language_info": {
   "codemirror_mode": {
    "name": "ipython",
    "version": 3
   },
   "file_extension": ".py",
   "mimetype": "text/x-python",
   "name": "python",
   "nbconvert_exporter": "python",
   "pygments_lexer": "ipython3",
   "version": "3.12.4"
  }
 },
 "nbformat": 4,
 "nbformat_minor": 2
}
