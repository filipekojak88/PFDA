{
 "cells": [
  {
   "cell_type": "markdown",
   "metadata": {},
   "source": [
    "# Windspeed Analysis for Windfarm\n",
    "***\n"
   ]
  },
  {
   "cell_type": "markdown",
   "metadata": {},
   "source": [
    "Ireland’s abundant wind resources make it an ideal candidate for harnessing wind energy, a key component in the country’s transition to renewable energy. This project focuses on analyzing wind speed data from a specific location in Ireland,  utilizing historical weather data from Met Éireann and other credible sources. By examining trends and patterns in hourly collected wind speed data over different timeframes daily, monthly, and yearly—this analysis aims to assess the potential for wind energy generation near Mace Head in Galway. Additionally, it considers operational factors, such as the minimum and maximum wind speeds at which wind turbines operate, to evaluate the feasibility and efficiency of wind farm operations.\n",
    "\n",
    "The analysis also delves into long-term trends in wind speeds to assess whether they are consistent or show significant changes over the decades, providing insights into future wind energy potential. Beyond wind speed, other weather metric such as temperature will be explored to understand its impact on wind farm efficiency. This project will also explore the challenges of forecasting wind power output by leveraging available weather predictions and wind turbine power curves. Ultimately, the findings will provide actionable insights for optimizing wind farm development and contribute to Ireland’s renewable energy goals."
   ]
  },
  {
   "cell_type": "markdown",
   "metadata": {},
   "source": [
    "## Met Eireann Station\n",
    "\n",
    "The west coast of Ireland, encompassing counties such as Donegal, Mayo, Galway, and Clare, is the ideal region for wind speed analysis due to its exposure to strong and consistent Atlantic winds, making it one of the most productive areas for wind energy generation. With high average wind speeds year-round and significant potential for both onshore and offshore wind farms, this region offers unparalleled opportunities for efficient and sustainable wind power development. Its proven track record, exemplified by successful projects like the Galway Wind Park, further underscores its suitability as a focal point for wind speed analysis and wind farm optimization [[57]](57).\n",
    "For this project the county of Galway and more specific the Met Eireann station in Mace Head was chosen to have the wind speed analysed for windfarm as it is one of the few stations in Galway that presents hourly data of some parameters such as the Mean Wind Speed (kt) and Air Temperature (C) since 2003, which will be beneficial for the analysis to be carried out as part of this project."
   ]
  },
  {
   "cell_type": "markdown",
   "metadata": {},
   "source": [
    "## Read in data\n",
    "\n",
    "In this section, the appropriate modules are imported, the data is read in and an analysis is completed to have an overview of the data."
   ]
  },
  {
   "cell_type": "code",
   "execution_count": 51,
   "metadata": {},
   "outputs": [],
   "source": [
    "# Import pandas\n",
    "\n",
    "import pandas as pd\n",
    "\n",
    "import numpy as np"
   ]
  },
  {
   "cell_type": "markdown",
   "metadata": {},
   "source": [
    "Looking at the file hly275.csv downloaded from [Met Eireann website](https://www.met.ie/climate/available-data/historical-data) and saved into the project folder is noticeable that there are 17 rows that needs to be removed to allow proper analysis of the data [[58]](58)."
   ]
  },
  {
   "cell_type": "code",
   "execution_count": 22,
   "metadata": {},
   "outputs": [
    {
     "name": "stderr",
     "output_type": "stream",
     "text": [
      "/var/folders/rk/fh00kl713wq4442gfb60yzk40000gn/T/ipykernel_48625/1798932155.py:5: DtypeWarning: Columns (2,4,6,7,8,9,10,12,14) have mixed types. Specify dtype option on import or set low_memory=False.\n",
      "  df = pd.read_csv(file,skiprows=17)\n"
     ]
    }
   ],
   "source": [
    "# Read in Data and skip rows 17\n",
    "\n",
    "file = 'hly275.csv'\n",
    "\n",
    "df = pd.read_csv(file,skiprows=17)"
   ]
  },
  {
   "cell_type": "code",
   "execution_count": 23,
   "metadata": {},
   "outputs": [
    {
     "data": {
      "text/html": [
       "<div>\n",
       "<style scoped>\n",
       "    .dataframe tbody tr th:only-of-type {\n",
       "        vertical-align: middle;\n",
       "    }\n",
       "\n",
       "    .dataframe tbody tr th {\n",
       "        vertical-align: top;\n",
       "    }\n",
       "\n",
       "    .dataframe thead th {\n",
       "        text-align: right;\n",
       "    }\n",
       "</style>\n",
       "<table border=\"1\" class=\"dataframe\">\n",
       "  <thead>\n",
       "    <tr style=\"text-align: right;\">\n",
       "      <th></th>\n",
       "      <th>date</th>\n",
       "      <th>ind</th>\n",
       "      <th>rain</th>\n",
       "      <th>ind.1</th>\n",
       "      <th>temp</th>\n",
       "      <th>ind.2</th>\n",
       "      <th>wetb</th>\n",
       "      <th>dewpt</th>\n",
       "      <th>vappr</th>\n",
       "      <th>rhum</th>\n",
       "      <th>msl</th>\n",
       "      <th>ind.3</th>\n",
       "      <th>wdsp</th>\n",
       "      <th>ind.4</th>\n",
       "      <th>wddir</th>\n",
       "    </tr>\n",
       "  </thead>\n",
       "  <tbody>\n",
       "    <tr>\n",
       "      <th>0</th>\n",
       "      <td>13-aug-2003 01:00</td>\n",
       "      <td>-1</td>\n",
       "      <td></td>\n",
       "      <td>4</td>\n",
       "      <td></td>\n",
       "      <td>4</td>\n",
       "      <td></td>\n",
       "      <td></td>\n",
       "      <td></td>\n",
       "      <td></td>\n",
       "      <td></td>\n",
       "      <td>7</td>\n",
       "      <td></td>\n",
       "      <td>7</td>\n",
       "      <td></td>\n",
       "    </tr>\n",
       "    <tr>\n",
       "      <th>1</th>\n",
       "      <td>13-aug-2003 02:00</td>\n",
       "      <td>-1</td>\n",
       "      <td></td>\n",
       "      <td>4</td>\n",
       "      <td></td>\n",
       "      <td>4</td>\n",
       "      <td></td>\n",
       "      <td></td>\n",
       "      <td></td>\n",
       "      <td></td>\n",
       "      <td></td>\n",
       "      <td>7</td>\n",
       "      <td></td>\n",
       "      <td>7</td>\n",
       "      <td></td>\n",
       "    </tr>\n",
       "    <tr>\n",
       "      <th>2</th>\n",
       "      <td>13-aug-2003 03:00</td>\n",
       "      <td>-1</td>\n",
       "      <td></td>\n",
       "      <td>4</td>\n",
       "      <td></td>\n",
       "      <td>4</td>\n",
       "      <td></td>\n",
       "      <td></td>\n",
       "      <td></td>\n",
       "      <td></td>\n",
       "      <td></td>\n",
       "      <td>7</td>\n",
       "      <td></td>\n",
       "      <td>7</td>\n",
       "      <td></td>\n",
       "    </tr>\n",
       "    <tr>\n",
       "      <th>3</th>\n",
       "      <td>13-aug-2003 04:00</td>\n",
       "      <td>-1</td>\n",
       "      <td></td>\n",
       "      <td>4</td>\n",
       "      <td></td>\n",
       "      <td>4</td>\n",
       "      <td></td>\n",
       "      <td></td>\n",
       "      <td></td>\n",
       "      <td></td>\n",
       "      <td></td>\n",
       "      <td>7</td>\n",
       "      <td></td>\n",
       "      <td>7</td>\n",
       "      <td></td>\n",
       "    </tr>\n",
       "    <tr>\n",
       "      <th>4</th>\n",
       "      <td>13-aug-2003 05:00</td>\n",
       "      <td>-1</td>\n",
       "      <td></td>\n",
       "      <td>4</td>\n",
       "      <td></td>\n",
       "      <td>4</td>\n",
       "      <td></td>\n",
       "      <td></td>\n",
       "      <td></td>\n",
       "      <td></td>\n",
       "      <td></td>\n",
       "      <td>7</td>\n",
       "      <td></td>\n",
       "      <td>7</td>\n",
       "      <td></td>\n",
       "    </tr>\n",
       "  </tbody>\n",
       "</table>\n",
       "</div>"
      ],
      "text/plain": [
       "                date  ind rain  ind.1 temp  ind.2 wetb dewpt vappr rhum msl  \\\n",
       "0  13-aug-2003 01:00   -1           4           4                             \n",
       "1  13-aug-2003 02:00   -1           4           4                             \n",
       "2  13-aug-2003 03:00   -1           4           4                             \n",
       "3  13-aug-2003 04:00   -1           4           4                             \n",
       "4  13-aug-2003 05:00   -1           4           4                             \n",
       "\n",
       "   ind.3 wdsp  ind.4 wddir  \n",
       "0      7           7        \n",
       "1      7           7        \n",
       "2      7           7        \n",
       "3      7           7        \n",
       "4      7           7        "
      ]
     },
     "execution_count": 23,
     "metadata": {},
     "output_type": "execute_result"
    }
   ],
   "source": [
    "# Quick look into the first 5 rows\n",
    "\n",
    "df.head()"
   ]
  },
  {
   "cell_type": "markdown",
   "metadata": {},
   "source": [
    "The first 5 rows show a lot of null data including wdsp (mean windspeed). Therefore let's have a look at the number of 'NaN' values in this dataset."
   ]
  },
  {
   "cell_type": "code",
   "execution_count": 24,
   "metadata": {},
   "outputs": [
    {
     "name": "stdout",
     "output_type": "stream",
     "text": [
      "<class 'pandas.core.frame.DataFrame'>\n",
      "RangeIndex: 186744 entries, 0 to 186743\n",
      "Data columns (total 15 columns):\n",
      " #   Column  Non-Null Count   Dtype \n",
      "---  ------  --------------   ----- \n",
      " 0   date    186744 non-null  object\n",
      " 1   ind     186744 non-null  int64 \n",
      " 2   rain    186744 non-null  object\n",
      " 3   ind.1   186744 non-null  int64 \n",
      " 4   temp    186744 non-null  object\n",
      " 5   ind.2   186744 non-null  int64 \n",
      " 6   wetb    186744 non-null  object\n",
      " 7   dewpt   186744 non-null  object\n",
      " 8   vappr   186744 non-null  object\n",
      " 9   rhum    186744 non-null  object\n",
      " 10  msl     186744 non-null  object\n",
      " 11  ind.3   186744 non-null  int64 \n",
      " 12  wdsp    186744 non-null  object\n",
      " 13  ind.4   186744 non-null  int64 \n",
      " 14  wddir   186744 non-null  object\n",
      "dtypes: int64(5), object(10)\n",
      "memory usage: 21.4+ MB\n"
     ]
    }
   ],
   "source": [
    "# Confirming the count of Non-null data and data type\n",
    "\n",
    "df.info()"
   ]
  },
  {
   "cell_type": "markdown",
   "metadata": {},
   "source": [
    "From df.info() it does not seem to have null data which goes against what we have just seend in the first 5 rows and that might be due to the data type. Therefore let's check the number of unique values in 'wdsp' column."
   ]
  },
  {
   "cell_type": "code",
   "execution_count": 25,
   "metadata": {},
   "outputs": [
    {
     "name": "stdout",
     "output_type": "stream",
     "text": [
      "[' ' '6' '4' '3' '5' '7' '9' '12' '10' '8' '2' '1' '11' '13' '16' '17'\n",
      " '19' '22' '25' '23' '14' '18' '20' '21' '15' '24' '26' '30' '28' '29'\n",
      " '27' '33' '36' '31' '32' '34' '37' '42' '44' '40' '35' '38' '39' '41'\n",
      " '43' '53' '50' '48' '47' '46' '0' '45' '51' '52' '49' '56' '55' 17 18 15\n",
      " 14 11 6 5 3 4 8 9 12 13 16 7 2 10 20 23 21 22 19 25 26 28 29 27 24 30 1\n",
      " 31 35 37 34 41 51 55 56 45 40 36 33 32 39 42 38 46 43 47 49 44 50 0 54 48\n",
      " 52]\n"
     ]
    }
   ],
   "source": [
    "# See all unique values in the column 'wdsp'\n",
    "\n",
    "print(df['wdsp'].unique())  "
   ]
  },
  {
   "cell_type": "markdown",
   "metadata": {},
   "source": [
    "From the output of unique values function above is possible to see that the data type in this column is mixed, showing string and numeric data types. Also, there is null data, so let's clean the data."
   ]
  },
  {
   "cell_type": "markdown",
   "metadata": {},
   "source": [
    "## Clean the dataset\n",
    "\n",
    "In this section, we replace and clean null data, then convert all the string data in column 'wdsp' to integer. We also normalise the datetime data to 'YYYY-MM-DD hh:mm:ss'."
   ]
  },
  {
   "cell_type": "markdown",
   "metadata": {},
   "source": [
    "### Replace null values"
   ]
  },
  {
   "cell_type": "code",
   "execution_count": 37,
   "metadata": {},
   "outputs": [],
   "source": [
    "# Replace non-numeric or invalid values with NaN\n",
    "\n",
    "df['wdsp'] = df['wdsp'].replace([' ', '', 'NA', 'null'], np.nan)"
   ]
  },
  {
   "cell_type": "code",
   "execution_count": 38,
   "metadata": {},
   "outputs": [
    {
     "name": "stdout",
     "output_type": "stream",
     "text": [
      "Number of NaN values in 'wdsp': 1296\n"
     ]
    }
   ],
   "source": [
    "# Count NaN values in 'wdsp'\n",
    "nan_wdsp_count = df['wdsp'].isnull().sum()\n",
    "\n",
    "print(f\"Number of NaN values in 'wdsp': {nan_wdsp_count}\")"
   ]
  },
  {
   "cell_type": "markdown",
   "metadata": {},
   "source": [
    "### Change data type"
   ]
  },
  {
   "cell_type": "code",
   "execution_count": 42,
   "metadata": {},
   "outputs": [
    {
     "name": "stdout",
     "output_type": "stream",
     "text": [
      "Int64\n"
     ]
    }
   ],
   "source": [
    "# Convert 'wdsp' to integer, coercing non-convertible values to NaN\n",
    "\n",
    "df['wdsp'] = pd.to_numeric(df['wdsp'], errors='coerce').astype('Int64') \n",
    "\n",
    "# Verify the data types\n",
    "\n",
    "print(df['wdsp'].dtypes)"
   ]
  },
  {
   "cell_type": "code",
   "execution_count": 47,
   "metadata": {},
   "outputs": [
    {
     "name": "stdout",
     "output_type": "stream",
     "text": [
      "                date  wdsp\n",
      "0  13-aug-2003 01:00  <NA>\n",
      "1  13-aug-2003 02:00  <NA>\n",
      "2  13-aug-2003 03:00  <NA>\n",
      "3  13-aug-2003 04:00  <NA>\n",
      "4  13-aug-2003 05:00  <NA>\n"
     ]
    }
   ],
   "source": [
    "# Check the first few rows for 'date' and 'wdsp' columns\n",
    "\n",
    "print(df[['date', 'wdsp']].head())"
   ]
  },
  {
   "cell_type": "markdown",
   "metadata": {},
   "source": [
    "### Drop NaN"
   ]
  },
  {
   "cell_type": "code",
   "execution_count": 48,
   "metadata": {},
   "outputs": [
    {
     "name": "stdout",
     "output_type": "stream",
     "text": [
      "Number of NaN values in 'wdsp' after dropping: 0\n"
     ]
    }
   ],
   "source": [
    "# Drop rows where 'wdsp' is NaN\n",
    "df = df.dropna(subset=['wdsp'])\n",
    "\n",
    "# Verify if NaN values are removed\n",
    "null_wdsp_count = df['wdsp'].isna().sum()\n",
    "print(f\"Number of NaN values in 'wdsp' after dropping: {null_wdsp_count}\")"
   ]
  },
  {
   "cell_type": "markdown",
   "metadata": {},
   "source": [
    "### Normalise datetime"
   ]
  },
  {
   "cell_type": "code",
   "execution_count": 50,
   "metadata": {},
   "outputs": [
    {
     "name": "stderr",
     "output_type": "stream",
     "text": [
      "/var/folders/rk/fh00kl713wq4442gfb60yzk40000gn/T/ipykernel_48625/2794173177.py:3: SettingWithCopyWarning: \n",
      "A value is trying to be set on a copy of a slice from a DataFrame.\n",
      "Try using .loc[row_indexer,col_indexer] = value instead\n",
      "\n",
      "See the caveats in the documentation: https://pandas.pydata.org/pandas-docs/stable/user_guide/indexing.html#returning-a-view-versus-a-copy\n",
      "  df['date'] = pd.to_datetime(df['date'], format='%d-%b-%Y %H:%M')\n"
     ]
    },
    {
     "data": {
      "text/plain": [
       "24       2003-08-14 01:00:00\n",
       "25       2003-08-14 02:00:00\n",
       "26       2003-08-14 03:00:00\n",
       "27       2003-08-14 04:00:00\n",
       "28       2003-08-14 05:00:00\n",
       "                 ...        \n",
       "186739   2024-11-30 20:00:00\n",
       "186740   2024-11-30 21:00:00\n",
       "186741   2024-11-30 22:00:00\n",
       "186742   2024-11-30 23:00:00\n",
       "186743   2024-12-01 00:00:00\n",
       "Name: date, Length: 185448, dtype: datetime64[ns]"
      ]
     },
     "execution_count": 50,
     "metadata": {},
     "output_type": "execute_result"
    }
   ],
   "source": [
    "# Change date time format\n",
    "\n",
    "df['date'] = pd.to_datetime(df['date'], format='%d-%b-%Y %H:%M')\n",
    "\n",
    "df['date']"
   ]
  },
  {
   "cell_type": "markdown",
   "metadata": {},
   "source": [
    "Note: the column 'date' contains Date and Time in UTC time zone, so no further action required here."
   ]
  },
  {
   "cell_type": "markdown",
   "metadata": {},
   "source": [
    "## Wind power in Mace Head - Galway"
   ]
  },
  {
   "cell_type": "markdown",
   "metadata": {},
   "source": [
    "In Coumty Galway, wind turbines such as the Siemens Gamesa SWT-3.0-101, Vestas V52, and Nordex N149 are the three most commonly used in wind farms, accounting for 150 out of 192 turbines currently confirmed as operational [[59]](59). In the table below is possible to see the specification for most used turbines in Galway [[60]](60) [[61]](61) [[62]](62) [[63]](63). These specifications ensure efficient operation in Galway's moderate to strong wind conditions."
   ]
  },
  {
   "cell_type": "markdown",
   "metadata": {},
   "source": [
    "| **Wind Turbine Model**     | **Cut-in Wind Speed** | **Rated Wind Speed** | **Cut-out Wind Speed** |**Number of Turbines in Galway** |\n",
    "|----------------------------|-----------------------|----------------------|------------------------|---------------------------------|\n",
    "| **Vestas V52**              | 4.0 m/s               | 14 m/s               | 25.0 m/s               |70                               |\n",
    "| **Siemens SWT-3.0-101**     | 3.5 m/s               | 14.5 m/s             | 25 m/s                 |58                               |\n",
    "| **Nordex N149 4.0-4.5**     | 3.0 m/s               | 12 m/s               | 20 m/s                 |15                               |\n",
    "| **Nordex N149 5.0**         | 3.0 m/s               | 12.5 m/s             | 26 m/s                 |7                                |"
   ]
  },
  {
   "cell_type": "code",
   "execution_count": 56,
   "metadata": {},
   "outputs": [
    {
     "data": {
      "text/plain": [
       "count     185448.0\n",
       "mean     14.474537\n",
       "std       7.553621\n",
       "min            0.0\n",
       "25%            9.0\n",
       "50%           14.0\n",
       "75%           19.0\n",
       "max           56.0\n",
       "Name: wdsp, dtype: Float64"
      ]
     },
     "execution_count": 56,
     "metadata": {},
     "output_type": "execute_result"
    }
   ],
   "source": [
    "df['wdsp'].describe()"
   ]
  },
  {
   "cell_type": "markdown",
   "metadata": {},
   "source": [
    "https://en.wikipedia.org/wiki/List_of_wind_farms_in_the_Republic_of_Ireland?utm_source=chatgpt.com"
   ]
  },
  {
   "cell_type": "markdown",
   "metadata": {},
   "source": [
    "***\n",
    "# End"
   ]
  }
 ],
 "metadata": {
  "kernelspec": {
   "display_name": "base",
   "language": "python",
   "name": "python3"
  },
  "language_info": {
   "codemirror_mode": {
    "name": "ipython",
    "version": 3
   },
   "file_extension": ".py",
   "mimetype": "text/x-python",
   "name": "python",
   "nbconvert_exporter": "python",
   "pygments_lexer": "ipython3",
   "version": "3.12.4"
  }
 },
 "nbformat": 4,
 "nbformat_minor": 2
}
