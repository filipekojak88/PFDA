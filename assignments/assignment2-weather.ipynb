{
 "cells": [
  {
   "cell_type": "markdown",
   "metadata": {},
   "source": [
    "# Assignment 2 weather\n",
    "********\n",
    "<br>\n",
    "Author: Filipe Carvalho<br><br>\n",
    "\n",
    "In this assignment I create a nice plot of the temperature over time based on data from [weatherreadings1.csv](/Users/filipecarvalho/Desktop/PFDA-courseware/assignment/weatherreadings1.csv)\n"
   ]
  },
  {
   "cell_type": "code",
   "execution_count": 53,
   "metadata": {},
   "outputs": [],
   "source": [
    "# Import the appropriate packages\n",
    "\n",
    "import pandas as pd\n",
    "\n",
    "import numpy as np\n",
    "\n",
    "import matplotlib.pyplot as plt\n",
    "\n",
    "import matplotlib.dates as mdates \n"
   ]
  },
  {
   "cell_type": "code",
   "execution_count": 54,
   "metadata": {},
   "outputs": [],
   "source": [
    "# Define the path of my file\n",
    "file_path = '/Users/filipecarvalho/Desktop/PFDA-courseware/assignment/weatherreadings1.csv'\n",
    "\n",
    "# Reading the CSV file\n",
    "df = pd.read_csv(file_path)\n",
    "\n",
    "# Display the first few rows\n",
    "# print(df.head()) - this was used to have an idea of the headings, but the data showed a bit messed. So, I opted to use the name of the columns instead.\n",
    "\n",
    "# Display the names of the columns\n",
    "# print(df.columns)"
   ]
  },
  {
   "cell_type": "markdown",
   "metadata": {},
   "source": [
    "There are 4 columns informing time 'reportStartDateTime', 'reportEndDateTime', 'localReportEndDateTime' and 'createdDateTime'. For this assignment 'reportStartDateTime' will be used as its data is the same as the other two columns related to time and shows periodic data collection throughout the rows in the dataset."
   ]
  },
  {
   "cell_type": "markdown",
   "metadata": {},
   "source": [
    "## Making a plot\n",
    "\n",
    "Using:\n",
    "\n",
    "'fig, ax = plot.subplots()'\n",
    "\n",
    "and\n",
    "\n",
    "'plt.show()'"
   ]
  },
  {
   "cell_type": "code",
   "execution_count": null,
   "metadata": {},
   "outputs": [],
   "source": [
    "# Extract the required columns\n",
    "x = pd.to_datetime(df['reportStartDateTime'])  # x-axis: Convert to datetime if it's not already (1)\n",
    "y = df['dryBulbTemperature_Celsius']  # y-axis\n",
    "\n",
    "\n",
    "fig, ax = plt.subplots(figsize=(10, 6))    # Using subplots (2), (3)\n",
    "\n",
    "# Create a scatter plot\n",
    "ax.scatter(x, y, color='tan', label='Temperature Data')      # added color to the dots and label.\n",
    "# Positioning the legend to the upper right side of the chart (4)\n",
    "ax.legend(loc='upper right')\n",
    "\n",
    "\n",
    "# Add plot elements (4)\n",
    "ax.set_title('Temperature Over Time', fontsize=16)\n",
    "ax.set(xlabel='Report Start Date Time',ylabel='Dry Bulb Temperature (°C)')\n",
    "\n",
    "ax.xaxis.set_major_formatter(mdates.DateFormatter('%d-%m-%y\\n%H:%M'))  # Date followed by time on a new line\n",
    "\n",
    "# Add grid for better readability (8)\n",
    "ax.grid(True)\n",
    "\n",
    "# Specific point to add a note and an arrow, 17th value.\n",
    "x1 = x.iloc[16]  \n",
    "y1 = y.iloc[16]\n",
    "# Adding note\n",
    "plt.annotate('Significant Plunge of Temp',         \n",
    "            xy=(x1, y1),                         \n",
    "            xytext=(x1, y1 + 6),                \n",
    "            arrowprops=dict(color='lightsteelblue', shrink=0.05),\n",
    "            ha='center')\n",
    "\n",
    "# Specific point to add a note and an arrow, 79th value.\n",
    "x2 = x.iloc[78]  # Used the 79th value\n",
    "y2 = y.iloc[78]\n",
    "\n",
    "# Set the text position just above the point to keep it centralized\n",
    "plt.annotate('Significant Increase of Temp', \n",
    "             xy=(x2, y2), \n",
    "             xytext=(x2, y2 - 5),  # Positioning text above\n",
    "             arrowprops=dict(color='lightcoral', shrink=0.05),\n",
    "             horizontalalignment='center'  # Center the text horizontally\n",
    "             )  \n",
    "\n",
    "# List of indices for the points where I want to show the data labels. These were the top and down values noticed.\n",
    "indices = [0, 17, 21, 31,35,38,52,58,78,80,82,84,85,88]\n",
    "\n",
    "# Loop through the list of specific points\n",
    "for i in indices:\n",
    "    plt.text(x[i], y[i], f'{y[i]:.1f}', fontsize=9, verticalalignment='bottom', horizontalalignment='right')\n",
    "\n",
    "# Display the plot\n",
    "plt.xticks(rotation=45, ha='left')  # Rotate x-axis labels if necessary (7)\n",
    "plt.tight_layout()  # Adjust layout to prevent overlap\n",
    "\n",
    "\n",
    "\n",
    "plt.show()"
   ]
  },
  {
   "cell_type": "markdown",
   "metadata": {},
   "source": [
    "A bit of the steps involved in creating this part of the code (9):\n",
    "\n",
    "- I first specified that I wanted the 17th value (starting couting from 0) where I'd like to base by arrow. Therefore I created two variables (x1 and y1) setting up the x and y coordinates.\n",
    "'x1 = x.iloc[16]  \n",
    "y1 = y.iloc[16]'\n",
    "\n",
    "- This first parameter is just the text that will be added.\n",
    "plt.annotate('Significant Plunge of Temp',  \n",
    "\n",
    "            Followed by the specification of the of the x and y location of my arrow:      \n",
    "            'xy=(x1, y1), '\n",
    "\n",
    "            I used a this third parameter to determine the x and y positioning of the text above the arrow + where the arrow shaft is stemmed from, in this case slightly above the point by adding 6 units to the y value.\n",
    "            'xytext=(x1, y1 + 6), '    \n",
    "\n",
    "            Finally I used the parameter arrow properties using a dictionary to customize. I found some interesting properties that I could use in Stack Overflow (10):\n",
    "             - the color. I thought about changing it to a gradient colour and found more complex details on how to do it. But to keep it simple I didn't implement it (11). However as I wanted to change the colour to something more related to the dropping of a temperature I researched in Matplotlib and found a List of named colours, using 'lightsteelblue' for the first arrow and 'lightcoral' for the arrow showing increase in the temperature (12). Learned by observing the way the colors are presented in different slyles that while the parameter 'facecolor' changes just the filling of the arrow, keeping the border in the standard color (black), the parameter 'color' actually changes the filling and the border to the same color. So, for this activity I preferred to use the parameter 'color' instead. and to shrink the arrow's lenght by 5% so it does not touch the annotation. \n",
    "            -  I then used the property shrink to shorten the arrow's lenght so it does not touch the annotation text or the point.\n",
    "            'arrowprops=dict(color='lightsteelblue', shrink=0.05))'\n",
    "\n",
    "- For the second arrow showing the increase in the temperature, apart of changing the color to 'lightcoral', I also had to change the y positioning of the xytext to decrease 5 as I wanted to see the text under the arrow and not above. I used the iloc for x and y in the 79th value (starting from 0). Also in this point, I had to add the parameter horizontalalignment as the text was exploding outside the chart area (14). I did the same for the first arrow.\n",
    "\n"
   ]
  },
  {
   "cell_type": "markdown",
   "metadata": {},
   "source": [
    "References:\n",
    "\n",
    "(1) to_datetime = https://stackoverflow.com/questions/27506367/python-pandas-integer-yyyymmdd-to-datetime\n",
    "\n",
    "(2) why to use plt.subplots = https://www.youtube.com/watch?v=Tqph7_qMujk\n",
    "\n",
    "(3) figure size for plt.subplots = https://www.geeksforgeeks.org/how-to-change-the-figure-size-with-subplots-in-matplotlib/\n",
    "\n",
    "(4) Used this website to set up title, labels https://www.geeksforgeeks.org/matplotlib-axes-axes-set-in-python/\n",
    "\n",
    "(5) I wanted to move the legend from the left side to the right so I used this: https://matplotlib.org/stable/api/_as_gen/matplotlib.axes.Axes.legend.html\n",
    "\n",
    "(6) Use this knowledge to configure the date type to the format DD-MM-YY https://stackoverflow.com/questions/33743394/matplotlib-dateformatter-for-axis-label-not-working.\n",
    "\n",
    "(7) The teacher explained how to use labels = ax.get_xticklabels() and then rotate with plt.setp(labels, rotation=45,horizontalalignment='right'). I was able to find plt.xtick(rotation=45, ha='right'), seems to be a simplier: https://stackoverflow.com/questions/10998621/rotate-axis-tick-labels\n",
    "\n",
    "(8) https://www.w3schools.com/python/matplotlib_grid.asp\n",
    "\n",
    "(9) This describes the parameters I can use within plt.annotate: https://www.tutorialspoint.com/matplotlib/matplotlib_annotations.htm\n",
    "\n",
    "(10) https://stackoverflow.com/questions/44489900/arrow-properties-in-matplotlib-annotate\n",
    "\n",
    "(11) https://stackoverflow.com/questions/11058072/create-an-arrow-with-gradient-color\n",
    "\n",
    "(12) https://matplotlib.org/stable/gallery/color/named_colors.html\n",
    "\n",
    "(13) https://matplotlib.org/stable/users/explain/text/annotations.html\n",
    "\n",
    "(14) https://www.tutorialspoint.com/how-to-center-an-annotation-horizontally-over-a-point-in-matplotlib\n",
    "\n",
    "\n"
   ]
  }
 ],
 "metadata": {
  "kernelspec": {
   "display_name": "base",
   "language": "python",
   "name": "python3"
  },
  "language_info": {
   "codemirror_mode": {
    "name": "ipython",
    "version": 3
   },
   "file_extension": ".py",
   "mimetype": "text/x-python",
   "name": "python",
   "nbconvert_exporter": "python",
   "pygments_lexer": "ipython3",
   "version": "3.12.4"
  }
 },
 "nbformat": 4,
 "nbformat_minor": 2
}
